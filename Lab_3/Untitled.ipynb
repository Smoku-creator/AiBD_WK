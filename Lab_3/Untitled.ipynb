{
 "cells": [
  {
   "cell_type": "code",
   "execution_count": 1,
   "id": "d49fc659",
   "metadata": {},
   "outputs": [],
   "source": [
    "import numpy as np\n",
    "import pickle\n",
    "\n",
    "import psycopg2 as pg\n",
    "import pandas.io.sql as psql\n",
    "import pandas as pd\n",
    "\n",
    "from typing import Union, List, Tuple\n",
    "\n",
    "connection = pg.connect(host='pgsql-196447.vipserv.org', port=5432, dbname='wbauer_adb', user='wbauer_adb', password='adb2020');\n",
    "\n",
    "def film_in_category(category_id:int)->pd.DataFrame:\n",
    "    ''' Funkcja zwracająca wynik zapytania do bazy o tytuł filmu, język, oraz kategorię dla zadanego id kategorii.\n",
    "    Przykład wynikowej tabeli:\n",
    "    |   |title          |languge    |category|\n",
    "    |0\t|Amadeus Holy\t|English\t|Action|\n",
    "    \n",
    "    Tabela wynikowa ma być posortowana po tylule filmu i języku.\n",
    "    \n",
    "    Jeżeli warunki wejściowe nie są spełnione to funkcja powinna zwracać wartość None.\n",
    "    \n",
    "    Parameters:\n",
    "    category_id (int): wartość id kategorii dla którego wykonujemy zapytanie\n",
    "    \n",
    "    Returns:\n",
    "    pd.DataFrame: DataFrame zawierający wyniki zapytania\n",
    "    '''\n",
    "    if isinstance(category_id, int):\n",
    "        if 0 < category_id < 17:\n",
    "            df = pd.read_sql(f'SELECT film.title, language.name AS language, category.name AS category FROM film \\\n",
    "            INNER JOIN language USING(language_id) INNER JOIN film_category USING(film_id) \\\n",
    "            INNER JOIN category USING(category_id) WHERE category.category_id = {category_id} \\\n",
    "            ORDER BY film.title ASC, language.name ASC', con=connection)\n",
    "            return df\n",
    "        else:\n",
    "            return None\n",
    "    else:\n",
    "        return None"
   ]
  },
  {
   "cell_type": "code",
   "execution_count": 2,
   "id": "f34afaac",
   "metadata": {},
   "outputs": [
    {
     "name": "stderr",
     "output_type": "stream",
     "text": [
      "/home/wiktor/anaconda3/envs/wiktorkacprzak/lib/python3.9/site-packages/pandas/io/sql.py:762: UserWarning: pandas only support SQLAlchemy connectable(engine/connection) ordatabase string URI or sqlite3 DBAPI2 connectionother DBAPI2 objects are not tested, please consider using SQLAlchemy\n",
      "  warnings.warn(\n"
     ]
    },
    {
     "data": {
      "text/html": [
       "<div>\n",
       "<style scoped>\n",
       "    .dataframe tbody tr th:only-of-type {\n",
       "        vertical-align: middle;\n",
       "    }\n",
       "\n",
       "    .dataframe tbody tr th {\n",
       "        vertical-align: top;\n",
       "    }\n",
       "\n",
       "    .dataframe thead th {\n",
       "        text-align: right;\n",
       "    }\n",
       "</style>\n",
       "<table border=\"1\" class=\"dataframe\">\n",
       "  <thead>\n",
       "    <tr style=\"text-align: right;\">\n",
       "      <th></th>\n",
       "      <th>title</th>\n",
       "      <th>language</th>\n",
       "      <th>category</th>\n",
       "    </tr>\n",
       "  </thead>\n",
       "  <tbody>\n",
       "    <tr>\n",
       "      <th>0</th>\n",
       "      <td>Alter Victory</td>\n",
       "      <td>English</td>\n",
       "      <td>Animation</td>\n",
       "    </tr>\n",
       "    <tr>\n",
       "      <th>1</th>\n",
       "      <td>Anaconda Confessions</td>\n",
       "      <td>English</td>\n",
       "      <td>Animation</td>\n",
       "    </tr>\n",
       "    <tr>\n",
       "      <th>2</th>\n",
       "      <td>Argonauts Town</td>\n",
       "      <td>English</td>\n",
       "      <td>Animation</td>\n",
       "    </tr>\n",
       "    <tr>\n",
       "      <th>3</th>\n",
       "      <td>Bikini Borrowers</td>\n",
       "      <td>English</td>\n",
       "      <td>Animation</td>\n",
       "    </tr>\n",
       "    <tr>\n",
       "      <th>4</th>\n",
       "      <td>Blackout Private</td>\n",
       "      <td>English</td>\n",
       "      <td>Animation</td>\n",
       "    </tr>\n",
       "    <tr>\n",
       "      <th>...</th>\n",
       "      <td>...</td>\n",
       "      <td>...</td>\n",
       "      <td>...</td>\n",
       "    </tr>\n",
       "    <tr>\n",
       "      <th>61</th>\n",
       "      <td>Tracy Cider</td>\n",
       "      <td>English</td>\n",
       "      <td>Animation</td>\n",
       "    </tr>\n",
       "    <tr>\n",
       "      <th>62</th>\n",
       "      <td>Turn Star</td>\n",
       "      <td>English</td>\n",
       "      <td>Animation</td>\n",
       "    </tr>\n",
       "    <tr>\n",
       "      <th>63</th>\n",
       "      <td>Wait Cider</td>\n",
       "      <td>English</td>\n",
       "      <td>Animation</td>\n",
       "    </tr>\n",
       "    <tr>\n",
       "      <th>64</th>\n",
       "      <td>Watch Tracy</td>\n",
       "      <td>English</td>\n",
       "      <td>Animation</td>\n",
       "    </tr>\n",
       "    <tr>\n",
       "      <th>65</th>\n",
       "      <td>Wonka Sea</td>\n",
       "      <td>English</td>\n",
       "      <td>Animation</td>\n",
       "    </tr>\n",
       "  </tbody>\n",
       "</table>\n",
       "<p>66 rows × 3 columns</p>\n",
       "</div>"
      ],
      "text/plain": [
       "                   title              language   category\n",
       "0          Alter Victory  English               Animation\n",
       "1   Anaconda Confessions  English               Animation\n",
       "2         Argonauts Town  English               Animation\n",
       "3       Bikini Borrowers  English               Animation\n",
       "4       Blackout Private  English               Animation\n",
       "..                   ...                   ...        ...\n",
       "61           Tracy Cider  English               Animation\n",
       "62             Turn Star  English               Animation\n",
       "63            Wait Cider  English               Animation\n",
       "64           Watch Tracy  English               Animation\n",
       "65             Wonka Sea  English               Animation\n",
       "\n",
       "[66 rows x 3 columns]"
      ]
     },
     "execution_count": 2,
     "metadata": {},
     "output_type": "execute_result"
    }
   ],
   "source": [
    "film_in_category(2)"
   ]
  },
  {
   "cell_type": "code",
   "execution_count": 3,
   "id": "f644c496",
   "metadata": {},
   "outputs": [],
   "source": [
    "def number_films_in_category(category_id:int)->pd.DataFrame:\n",
    "    ''' Funkcja zwracająca wynik zapytania do bazy o ilość filmów w zadanej kategori przez id kategorii.\n",
    "    Przykład wynikowej tabeli:\n",
    "    |   |category   |count|\n",
    "    |0\t|Action \t|64\t  | \n",
    "    \n",
    "    Jeżeli warunki wejściowe nie są spełnione to funkcja powinna zwracać wartość None.\n",
    "        \n",
    "    Parameters:\n",
    "    category_id (int): wartość id kategorii dla którego wykonujemy zapytanie\n",
    "    \n",
    "    Returns:\n",
    "    pd.DataFrame: DataFrame zawierający wyniki zapytania\n",
    "    '''\n",
    "    \n",
    "    if isinstance(category_id, int):\n",
    "        if 0 < category_id < 17:\n",
    "            df = pd.read_sql(f'SELECT category.name AS category, COUNT(film.title) FROM film INNER JOIN film_category USING (film_id) \\\n",
    "            INNER JOIN category USING(category_id) WHERE category.category_id = {category_id} GROUP BY category.name', con=connection)\n",
    "            return df\n",
    "        else:\n",
    "            return None\n",
    "    else:\n",
    "        return None\n",
    "    \n",
    "    return None"
   ]
  },
  {
   "cell_type": "code",
   "execution_count": 4,
   "id": "9c8cef6c",
   "metadata": {},
   "outputs": [
    {
     "name": "stderr",
     "output_type": "stream",
     "text": [
      "/home/wiktor/anaconda3/envs/wiktorkacprzak/lib/python3.9/site-packages/pandas/io/sql.py:762: UserWarning: pandas only support SQLAlchemy connectable(engine/connection) ordatabase string URI or sqlite3 DBAPI2 connectionother DBAPI2 objects are not tested, please consider using SQLAlchemy\n",
      "  warnings.warn(\n",
      "/home/wiktor/anaconda3/envs/wiktorkacprzak/lib/python3.9/site-packages/pandas/io/sql.py:762: UserWarning: pandas only support SQLAlchemy connectable(engine/connection) ordatabase string URI or sqlite3 DBAPI2 connectionother DBAPI2 objects are not tested, please consider using SQLAlchemy\n",
      "  warnings.warn(\n",
      "/home/wiktor/anaconda3/envs/wiktorkacprzak/lib/python3.9/site-packages/pandas/io/sql.py:762: UserWarning: pandas only support SQLAlchemy connectable(engine/connection) ordatabase string URI or sqlite3 DBAPI2 connectionother DBAPI2 objects are not tested, please consider using SQLAlchemy\n",
      "  warnings.warn(\n"
     ]
    },
    {
     "name": "stdout",
     "output_type": "stream",
     "text": [
      "   min\n",
      "0   46\n",
      "   max\n",
      "0  185\n"
     ]
    }
   ],
   "source": [
    "number_films_in_category(2)\n",
    "print(pd.read_sql('SELECT MIN(length) FROM film', con=connection))\n",
    "print(pd.read_sql('SELECT MAX(length) FROM film', con=connection))"
   ]
  },
  {
   "cell_type": "code",
   "execution_count": 5,
   "id": "7f6cdd19",
   "metadata": {},
   "outputs": [],
   "source": [
    "def number_film_by_length(min_length: Union[int,float] = 0, max_length: Union[int,float] = 1e6 ) :\n",
    "    ''' Funkcja zwracająca wynik zapytania do bazy o ilość filmów o dla poszczegulnych długości pomiędzy wartościami min_length a max_length.\n",
    "    Przykład wynikowej tabeli:\n",
    "    |   |length     |count|\n",
    "    |0\t|46 \t    |64\t  | \n",
    "    \n",
    "    Jeżeli warunki wejściowe nie są spełnione to funkcja powinna zwracać wartość None.\n",
    "        \n",
    "    Parameters:\n",
    "    min_length (int,float): wartość minimalnej długości filmu\n",
    "    max_length (int,float): wartość maksymalnej długości filmu\n",
    "    \n",
    "    Returns:\n",
    "    pd.DataFrame: DataFrame zawierający wyniki zapytania\n",
    "    '''\n",
    "    \n",
    "    if isinstance(min_length, (int,float)) and isinstance(max_length, (int,float)):\n",
    "        if min_length >= 46 and max_length <= 185:\n",
    "            if min_length <= max_length:\n",
    "                df = pd.read_sql(f'SELECT length, COUNT(length) FROM film \\\n",
    "                WHERE length BETWEEN {min_length} AND {max_length} GROUP BY length', con=connection)\n",
    "                return df\n",
    "            else:\n",
    "                return None\n",
    "        else:\n",
    "            return None\n",
    "    else:\n",
    "        return None"
   ]
  },
  {
   "cell_type": "code",
   "execution_count": 6,
   "id": "0bff2935",
   "metadata": {},
   "outputs": [
    {
     "name": "stderr",
     "output_type": "stream",
     "text": [
      "/home/wiktor/anaconda3/envs/wiktorkacprzak/lib/python3.9/site-packages/pandas/io/sql.py:762: UserWarning: pandas only support SQLAlchemy connectable(engine/connection) ordatabase string URI or sqlite3 DBAPI2 connectionother DBAPI2 objects are not tested, please consider using SQLAlchemy\n",
      "  warnings.warn(\n"
     ]
    },
    {
     "data": {
      "text/html": [
       "<div>\n",
       "<style scoped>\n",
       "    .dataframe tbody tr th:only-of-type {\n",
       "        vertical-align: middle;\n",
       "    }\n",
       "\n",
       "    .dataframe tbody tr th {\n",
       "        vertical-align: top;\n",
       "    }\n",
       "\n",
       "    .dataframe thead th {\n",
       "        text-align: right;\n",
       "    }\n",
       "</style>\n",
       "<table border=\"1\" class=\"dataframe\">\n",
       "  <thead>\n",
       "    <tr style=\"text-align: right;\">\n",
       "      <th></th>\n",
       "      <th>length</th>\n",
       "      <th>count</th>\n",
       "    </tr>\n",
       "  </thead>\n",
       "  <tbody>\n",
       "    <tr>\n",
       "      <th>0</th>\n",
       "      <td>46</td>\n",
       "      <td>5</td>\n",
       "    </tr>\n",
       "  </tbody>\n",
       "</table>\n",
       "</div>"
      ],
      "text/plain": [
       "   length  count\n",
       "0      46      5"
      ]
     },
     "execution_count": 6,
     "metadata": {},
     "output_type": "execute_result"
    }
   ],
   "source": [
    "number_film_by_length(46,46)"
   ]
  },
  {
   "cell_type": "code",
   "execution_count": 17,
   "id": "16f120ac",
   "metadata": {},
   "outputs": [],
   "source": [
    "def client_from_city(city:str)->pd.DataFrame:\n",
    "    ''' Funkcja zwracająca wynik zapytania do bazy o listę klientów z zadanego miasta przez wartość city.\n",
    "    Przykład wynikowej tabeli:\n",
    "    |   |city\t    |first_name\t|last_name\n",
    "    |0\t|Athenai\t|Linda\t    |Williams\n",
    "    \n",
    "    Tabela wynikowa ma być posortowana po nazwisku i imieniu klienta.\n",
    "    \n",
    "    Jeżeli warunki wejściowe nie są spełnione to funkcja powinna zwracać wartość None.\n",
    "        \n",
    "    Parameters:\n",
    "    city (str): nazwa miaste dla którego mamy sporządzić listę klientów\n",
    "    \n",
    "    Returns:\n",
    "    pd.DataFrame: DataFrame zawierający wyniki zapytania\n",
    "    '''\n",
    "    \n",
    "    if isinstance(city, str):\n",
    "        if city in pd.read_sql('SELECT city FROM city', con=connection)['city'].values.tolist():\n",
    "            df = pd.read_sql(f\"SELECT city.city, customer.first_name, customer.last_name from customer \\\n",
    "            INNER JOIN address USING(address_id) INNER JOIN city USING(city_id) WHERE city.city = '{city}' ORDER BY \\\n",
    "            customer.last_name ASC, customer.first_name ASC\", con=connection)\n",
    "            return df\n",
    "        else:\n",
    "            return None\n",
    "    else:\n",
    "        return None"
   ]
  },
  {
   "cell_type": "code",
   "execution_count": 24,
   "id": "08977074",
   "metadata": {},
   "outputs": [
    {
     "name": "stdout",
     "output_type": "stream",
     "text": [
      "      city first_name last_name\n",
      "0  Athenai      Linda  Williams\n"
     ]
    },
    {
     "name": "stderr",
     "output_type": "stream",
     "text": [
      "/home/wiktor/anaconda3/envs/wiktorkacprzak/lib/python3.9/site-packages/pandas/io/sql.py:762: UserWarning: pandas only support SQLAlchemy connectable(engine/connection) ordatabase string URI or sqlite3 DBAPI2 connectionother DBAPI2 objects are not tested, please consider using SQLAlchemy\n",
      "  warnings.warn(\n",
      "/home/wiktor/anaconda3/envs/wiktorkacprzak/lib/python3.9/site-packages/pandas/io/sql.py:762: UserWarning: pandas only support SQLAlchemy connectable(engine/connection) ordatabase string URI or sqlite3 DBAPI2 connectionother DBAPI2 objects are not tested, please consider using SQLAlchemy\n",
      "  warnings.warn(\n"
     ]
    }
   ],
   "source": [
    "print(client_from_city('Athenai'))"
   ]
  },
  {
   "cell_type": "code",
   "execution_count": 35,
   "id": "1c1ae43a",
   "metadata": {},
   "outputs": [],
   "source": [
    "def avg_amount_by_length(length:Union[int,float])->pd.DataFrame:\n",
    "    ''' Funkcja zwracająca wynik zapytania do bazy o średnią wartość wypożyczenia filmów dla zadanej długości length.\n",
    "    Przykład wynikowej tabeli:\n",
    "    |   |length |avg\n",
    "    |0\t|48\t    |4.295389\n",
    "    \n",
    "    \n",
    "    Jeżeli warunki wejściowe nie są spełnione to funkcja powinna zwracać wartość None.\n",
    "        \n",
    "    Parameters:\n",
    "    length (int,float): długość filmu dla którego mamy pożyczyć średnią wartość wypożyczonych filmów\n",
    "    \n",
    "    Returns:\n",
    "    pd.DataFrame: DataFrame zawierający wyniki zapytania\n",
    "    '''\n",
    "    \n",
    "    if isinstance(length, (int, float)):\n",
    "        if 45 < length < 186:\n",
    "            df = pd.read_sql(f\"SELECT length, AVG(rental_duration) FROM film \\\n",
    "            WHERE length = {length} GROUP BY length\", con=connection)\n",
    "            return df\n",
    "        else:\n",
    "            return None\n",
    "    else:\n",
    "        return None"
   ]
  },
  {
   "cell_type": "code",
   "execution_count": 39,
   "id": "bc79fd9e",
   "metadata": {},
   "outputs": [
    {
     "name": "stdout",
     "output_type": "stream",
     "text": [
      "   length  avg\n",
      "0     182  5.5\n"
     ]
    },
    {
     "name": "stderr",
     "output_type": "stream",
     "text": [
      "/home/wiktor/anaconda3/envs/wiktorkacprzak/lib/python3.9/site-packages/pandas/io/sql.py:762: UserWarning: pandas only support SQLAlchemy connectable(engine/connection) ordatabase string URI or sqlite3 DBAPI2 connectionother DBAPI2 objects are not tested, please consider using SQLAlchemy\n",
      "  warnings.warn(\n"
     ]
    }
   ],
   "source": [
    "print(avg_amount_by_length(182))"
   ]
  },
  {
   "cell_type": "code",
   "execution_count": null,
   "id": "cd1b944f",
   "metadata": {},
   "outputs": [],
   "source": [
    "def client_by_sum_length(sum_min:Union[int,float])->pd.DataFrame:\n",
    "    ''' Funkcja zwracająca wynik zapytania do bazy o sumaryczny czas wypożyczonych filmów przez klientów powyżej zadanej wartości .\n",
    "    Przykład wynikowej tabeli:\n",
    "    |   |first_name |last_name  |sum\n",
    "    |0  |Brian\t    |Wyman  \t|1265\n",
    "    \n",
    "    Tabela wynikowa powinna być posortowane według sumy, imienia i nazwiska klienta.\n",
    "    Jeżeli warunki wejściowe nie są spełnione to funkcja powinna zwracać wartość None.\n",
    "        \n",
    "    Parameters:\n",
    "    sum_min (int,float): minimalna wartość sumy długości wypożyczonych filmów którą musi spełniać klient\n",
    "    \n",
    "    Returns:\n",
    "    pd.DataFrame: DataFrame zawierający wyniki zapytania\n",
    "    '''\n",
    "    \n",
    "    if isinstance(sum_min, (int, float)):\n",
    "        \n",
    "    \n",
    "    return None"
   ]
  },
  {
   "cell_type": "code",
   "execution_count": null,
   "id": "3f00538f",
   "metadata": {},
   "outputs": [],
   "source": [
    "pd.read_sql(\"SELECT SUM(length) FROM film GROUP BY \")"
   ]
  }
 ],
 "metadata": {
  "kernelspec": {
   "display_name": "Python 3 (ipykernel)",
   "language": "python",
   "name": "python3"
  },
  "language_info": {
   "codemirror_mode": {
    "name": "ipython",
    "version": 3
   },
   "file_extension": ".py",
   "mimetype": "text/x-python",
   "name": "python",
   "nbconvert_exporter": "python",
   "pygments_lexer": "ipython3",
   "version": "3.9.13"
  }
 },
 "nbformat": 4,
 "nbformat_minor": 5
}
